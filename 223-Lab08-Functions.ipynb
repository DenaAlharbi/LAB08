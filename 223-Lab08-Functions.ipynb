{
 "cells": [
  {
   "cell_type": "markdown",
   "metadata": {
    "slideshow": {
     "slide_type": "slide"
    }
   },
   "source": [
    "###### ICS 104 - Introduction to Programming in Python and C\n",
    "## 223-Lab08-Functions"
   ]
  },
  {
   "cell_type": "markdown",
   "metadata": {
    "slideshow": {
     "slide_type": "fragment"
    }
   },
   "source": [
    "# Lab Learning Outcomes\n",
    "- To be able to implement functions\n",
    "- To become familiar with the concept of parameter passing\n",
    "- To develop strategies for decomposing complex tasks into simpler ones"
   ]
  },
  {
   "cell_type": "markdown",
   "metadata": {
    "slideshow": {
     "slide_type": "slide"
    }
   },
   "source": [
    "# Exercises"
   ]
  },
  {
   "cell_type": "markdown",
   "metadata": {
    "cell_style": "center",
    "slideshow": {
     "slide_type": "slide"
    }
   },
   "source": [
    "### Exercise 1\n",
    "Write the function readPositiveInteger() that asks the user for a positive integer. If the entered input is not valid, loop until user enters a positive integer. The function returns the positive integer.\n",
    "Write the function printFactors(number) that prints out all factors of number. For example, when the user enters 150, the program should print\n",
    "\n",
    "factors of 150 are<br>\n",
    "1<br>\n",
    "2<br>\n",
    "3<br>\n",
    "5<br>\n",
    "6<br>\n",
    "10<br>\n",
    "15<br>\n",
    "25<br>\n",
    "30<br>\n",
    "50<br>\n",
    "75<br>\n",
    "150<br>"
   ]
  },
  {
   "cell_type": "code",
   "execution_count": null,
   "metadata": {
    "nbgrader": {
     "grade": false,
     "grade_id": "cell-831668a818326720",
     "locked": false,
     "schema_version": 1,
     "solution": true
    },
    "slideshow": {
     "slide_type": "fragment"
    }
   },
   "outputs": [],
   "source": [
    "# Exercise # 1 - Source Code\n",
    "# complete the function readPositiveInteger\n",
    "def readPositiveInteger():\n",
    "    check = False\n",
    "    \n",
    "    while not check:\n",
    "        number= input(\"Enter a number: \")\n",
    "        number=int(number)\n",
    "        if number>0:\n",
    "            check=True\n",
    "        else:\n",
    "            print(\"invalid input\")\n",
    "    return number\n",
    "        \n",
    "# complete the function printFactors\n",
    "def printFactors(number):\n",
    "    number=int(number)\n",
    "    out=\"\"\n",
    "    for i in range(1,number+1):\n",
    "        if number%i==0:\n",
    "            out=out+str(i)+\"\\n\"\n",
    "    print(out)\n",
    "\n",
    "# main\n",
    "\n",
    "number=readPositiveInteger()\n",
    "printFactors(number)"
   ]
  },
  {
   "cell_type": "markdown",
   "metadata": {
    "slideshow": {
     "slide_type": "slide"
    }
   },
   "source": [
    "### Exercise 2\n",
    "A positive integer is called a perfect number if it is equal to the sum of all of its positive divisors, excluding itself. \n",
    "\n",
    "For example, 6 is the first perfect number because 6 = 3 + 2 + 1. The next is 28 = 14 + 7 + 4 + 2 + 1. There are four perfect numbers < 10,000. \n",
    "\n",
    "Write a program to find all these four numbers using the function isPerfectNumber(number) that returns True if the number is false and False otherwise.\n"
   ]
  },
  {
   "cell_type": "code",
   "execution_count": null,
   "metadata": {},
   "outputs": [],
   "source": []
  },
  {
   "cell_type": "code",
   "execution_count": null,
   "metadata": {
    "nbgrader": {
     "grade": false,
     "grade_id": "cell-49086fa4c5681df1",
     "locked": false,
     "schema_version": 1,
     "solution": true
    },
    "slideshow": {
     "slide_type": "fragment"
    }
   },
   "outputs": [],
   "source": [
    "# Exercise # 2 - Source Code\n",
    "# complete the function printFactors\n",
    "def isPerfectNumber(number):\n",
    "    divisors = []\n",
    "    for i in range(1, number): \n",
    "        if number % i == 0:\n",
    "            divisors.append(i)\n",
    "    \n",
    "    return sum(divisors) == number\n",
    "       \n",
    "# main\n",
    "print(\"Perfect numbers < 10000 are\")\n",
    "for number in range(6, 10000):\n",
    "    if isPerfectNumber(number):\n",
    "        print(number)"
   ]
  },
  {
   "cell_type": "markdown",
   "metadata": {},
   "source": [
    "### Exercise 3\n",
    "A fraction is represented as an integer numerator and an integer denominator. \n",
    "Write a program to read a fraction from the user and reduces it to the simplest form. Use functions in your solution.\n",
    "\n",
    "<br><br>\n",
    "Here is a sample run.<br>\n",
    "<br>\n",
    "Enter the numerator: 0<br>\n",
    "Enter the denominator: 5<br>\n",
    "the simplest form is 0<br><br>\n",
    "Enter the numerator: 10<br>\n",
    "Enter the denominator: 0<br>\n",
    "the denominator cannot be zero<br><br>\n",
    "Enter the numerator: 20<br>\n",
    "Enter the denominator: 5<br>\n",
    "the simplest form is 4<br><br>\n",
    "Enter the numerator: 12<br>\n",
    "Enter the denominator: 30<br>\n",
    "the simplest form is 2/5<br><br>\n",
    "Enter the numerator: 7<br>\n",
    "Enter the denominator: 11<br>\n",
    "the simplest form is 7/11<br><br>"
   ]
  },
  {
   "cell_type": "code",
   "execution_count": null,
   "metadata": {},
   "outputs": [],
   "source": [
    "\n",
    "\n",
    "def check(n, d):\n",
    "    if int(n)==0:\n",
    "        ans= print(\"The simplist form is 0\")\n",
    "    elif int(n)%int(d)==0:\n",
    "        ans=int(n)//int(d)\n",
    "        ans= print(f\"the simplist form is {ans}\")\n",
    "    elif int(n)%int(d)!=0:\n",
    "        ans=print(f\"the simplist form is {n}/{d}\")\n",
    "    return ans\n",
    "    \n",
    "    \n",
    "n=input(\"Enter the numerator: \")\n",
    "d= input(\"Enter the denominator:\")\n",
    "if int(d )==0:\n",
    "    print(\"The denominator cannot be zero\")\n",
    "else:\n",
    "    print(check(n,d))"
   ]
  }
 ],
 "metadata": {
  "celltoolbar": "Slideshow",
  "kernelspec": {
   "display_name": "Python 3 (ipykernel)",
   "language": "python",
   "name": "python3"
  },
  "language_info": {
   "codemirror_mode": {
    "name": "ipython",
    "version": 3
   },
   "file_extension": ".py",
   "mimetype": "text/x-python",
   "name": "python",
   "nbconvert_exporter": "python",
   "pygments_lexer": "ipython3",
   "version": "3.11.4"
  },
  "rise": {
   "theme": "yellow"
  },
  "toc": {
   "base_numbering": 1,
   "nav_menu": {},
   "number_sections": true,
   "sideBar": true,
   "skip_h1_title": false,
   "title_cell": "Table of Contents",
   "title_sidebar": "Contents",
   "toc_cell": false,
   "toc_position": {
    "height": "131px",
    "left": "781px",
    "top": "290px",
    "width": "221px"
   },
   "toc_section_display": true,
   "toc_window_display": false
  },
  "varInspector": {
   "cols": {
    "lenName": 16,
    "lenType": 16,
    "lenVar": 40
   },
   "kernels_config": {
    "python": {
     "delete_cmd_postfix": "",
     "delete_cmd_prefix": "del ",
     "library": "var_list.py",
     "varRefreshCmd": "print(var_dic_list())"
    },
    "r": {
     "delete_cmd_postfix": ") ",
     "delete_cmd_prefix": "rm(",
     "library": "var_list.r",
     "varRefreshCmd": "cat(var_dic_list()) "
    }
   },
   "types_to_exclude": [
    "module",
    "function",
    "builtin_function_or_method",
    "instance",
    "_Feature"
   ],
   "window_display": false
  }
 },
 "nbformat": 4,
 "nbformat_minor": 4
}
